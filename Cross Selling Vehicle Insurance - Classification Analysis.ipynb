{
 "cells": [
  {
   "cell_type": "markdown",
   "metadata": {},
   "source": [
    "Health Insurance Cross Sell Prediction"
   ]
  },
  {
   "cell_type": "markdown",
   "metadata": {},
   "source": [
    "### 1. Research question"
   ]
  },
  {
   "cell_type": "markdown",
   "metadata": {},
   "source": [
    "We want to predict whether a group of customers will respond positively to a vehicle insurance policy."
   ]
  },
  {
   "cell_type": "code",
   "execution_count": 1,
   "metadata": {},
   "outputs": [
    {
     "name": "stdout",
     "output_type": "stream",
     "text": [
      "Requirement already satisfied: imblearn in c:\\users\\paowm\\appdata\\local\\programs\\python\\python310\\lib\\site-packages (0.0)\n",
      "Requirement already satisfied: imbalanced-learn in c:\\users\\paowm\\appdata\\local\\programs\\python\\python310\\lib\\site-packages (from imblearn) (0.12.3)\n",
      "Requirement already satisfied: numpy>=1.17.3 in c:\\users\\paowm\\appdata\\local\\programs\\python\\python310\\lib\\site-packages (from imbalanced-learn->imblearn) (1.22.4)\n",
      "Requirement already satisfied: scipy>=1.5.0 in c:\\users\\paowm\\appdata\\local\\programs\\python\\python310\\lib\\site-packages (from imbalanced-learn->imblearn) (1.7.3)\n",
      "Requirement already satisfied: scikit-learn>=1.0.2 in c:\\users\\paowm\\appdata\\roaming\\python\\python310\\site-packages (from imbalanced-learn->imblearn) (1.2.1)\n",
      "Requirement already satisfied: joblib>=1.1.1 in c:\\users\\paowm\\appdata\\roaming\\python\\python310\\site-packages (from imbalanced-learn->imblearn) (1.2.0)\n",
      "Requirement already satisfied: threadpoolctl>=2.0.0 in c:\\users\\paowm\\appdata\\roaming\\python\\python310\\site-packages (from imbalanced-learn->imblearn) (3.1.0)\n",
      "Note: you may need to restart the kernel to use updated packages.\n"
     ]
    },
    {
     "name": "stderr",
     "output_type": "stream",
     "text": [
      "\n",
      "[notice] A new release of pip is available: 24.0 -> 24.2\n",
      "[notice] To update, run: python.exe -m pip install --upgrade pip\n"
     ]
    },
    {
     "name": "stdout",
     "output_type": "stream",
     "text": [
      "Requirement already satisfied: pandas in c:\\users\\paowm\\appdata\\local\\programs\\python\\python310\\lib\\site-packages (1.3.5)\n",
      "Requirement already satisfied: python-dateutil>=2.7.3 in c:\\users\\paowm\\appdata\\local\\programs\\python\\python310\\lib\\site-packages (from pandas) (2.8.2)\n",
      "Requirement already satisfied: pytz>=2017.3 in c:\\users\\paowm\\appdata\\local\\programs\\python\\python310\\lib\\site-packages (from pandas) (2021.3)\n",
      "Requirement already satisfied: numpy>=1.21.0 in c:\\users\\paowm\\appdata\\local\\programs\\python\\python310\\lib\\site-packages (from pandas) (1.22.4)\n",
      "Requirement already satisfied: six>=1.5 in c:\\users\\paowm\\appdata\\local\\programs\\python\\python310\\lib\\site-packages (from python-dateutil>=2.7.3->pandas) (1.16.0)\n",
      "Note: you may need to restart the kernel to use updated packages.\n"
     ]
    },
    {
     "name": "stderr",
     "output_type": "stream",
     "text": [
      "\n",
      "[notice] A new release of pip is available: 24.0 -> 24.2\n",
      "[notice] To update, run: python.exe -m pip install --upgrade pip\n"
     ]
    },
    {
     "name": "stdout",
     "output_type": "stream",
     "text": [
      "Requirement already satisfied: matplotlib in c:\\users\\paowm\\appdata\\local\\programs\\python\\python310\\lib\\site-packages (3.5.1)\n",
      "Requirement already satisfied: cycler>=0.10 in c:\\users\\paowm\\appdata\\local\\programs\\python\\python310\\lib\\site-packages (from matplotlib) (0.11.0)\n",
      "Requirement already satisfied: fonttools>=4.22.0 in c:\\users\\paowm\\appdata\\local\\programs\\python\\python310\\lib\\site-packages (from matplotlib) (4.28.5)\n",
      "Requirement already satisfied: kiwisolver>=1.0.1 in c:\\users\\paowm\\appdata\\local\\programs\\python\\python310\\lib\\site-packages (from matplotlib) (1.3.2)\n",
      "Requirement already satisfied: numpy>=1.17 in c:\\users\\paowm\\appdata\\local\\programs\\python\\python310\\lib\\site-packages (from matplotlib) (1.22.4)\n",
      "Requirement already satisfied: packaging>=20.0 in c:\\users\\paowm\\appdata\\local\\programs\\python\\python310\\lib\\site-packages (from matplotlib) (21.3)\n",
      "Requirement already satisfied: pillow>=6.2.0 in c:\\users\\paowm\\appdata\\local\\programs\\python\\python310\\lib\\site-packages (from matplotlib) (8.4.0)\n",
      "Requirement already satisfied: pyparsing>=2.2.1 in c:\\users\\paowm\\appdata\\local\\programs\\python\\python310\\lib\\site-packages (from matplotlib) (3.0.6)\n",
      "Requirement already satisfied: python-dateutil>=2.7 in c:\\users\\paowm\\appdata\\local\\programs\\python\\python310\\lib\\site-packages (from matplotlib) (2.8.2)\n",
      "Requirement already satisfied: six>=1.5 in c:\\users\\paowm\\appdata\\local\\programs\\python\\python310\\lib\\site-packages (from python-dateutil>=2.7->matplotlib) (1.16.0)\n",
      "Note: you may need to restart the kernel to use updated packages.\n"
     ]
    },
    {
     "name": "stderr",
     "output_type": "stream",
     "text": [
      "\n",
      "[notice] A new release of pip is available: 24.0 -> 24.2\n",
      "[notice] To update, run: python.exe -m pip install --upgrade pip\n"
     ]
    },
    {
     "name": "stdout",
     "output_type": "stream",
     "text": [
      "Requirement already satisfied: seaborn in c:\\users\\paowm\\appdata\\local\\programs\\python\\python310\\lib\\site-packages (0.11.2)\n",
      "Note: you may need to restart the kernel to use updated packages.Requirement already satisfied: numpy>=1.15 in c:\\users\\paowm\\appdata\\local\\programs\\python\\python310\\lib\\site-packages (from seaborn) (1.22.4)\n",
      "Requirement already satisfied: scipy>=1.0 in c:\\users\\paowm\\appdata\\local\\programs\\python\\python310\\lib\\site-packages (from seaborn) (1.7.3)\n",
      "Requirement already satisfied: pandas>=0.23 in c:\\users\\paowm\\appdata\\local\\programs\\python\\python310\\lib\\site-packages (from seaborn) (1.3.5)\n",
      "\n"
     ]
    },
    {
     "name": "stderr",
     "output_type": "stream",
     "text": [
      "\n",
      "[notice] A new release of pip is available: 24.0 -> 24.2\n",
      "[notice] To update, run: python.exe -m pip install --upgrade pip\n"
     ]
    },
    {
     "name": "stdout",
     "output_type": "stream",
     "text": [
      "Requirement already satisfied: matplotlib>=2.2 in c:\\users\\paowm\\appdata\\local\\programs\\python\\python310\\lib\\site-packages (from seaborn) (3.5.1)\n",
      "Requirement already satisfied: cycler>=0.10 in c:\\users\\paowm\\appdata\\local\\programs\\python\\python310\\lib\\site-packages (from matplotlib>=2.2->seaborn) (0.11.0)\n",
      "Requirement already satisfied: fonttools>=4.22.0 in c:\\users\\paowm\\appdata\\local\\programs\\python\\python310\\lib\\site-packages (from matplotlib>=2.2->seaborn) (4.28.5)\n",
      "Requirement already satisfied: kiwisolver>=1.0.1 in c:\\users\\paowm\\appdata\\local\\programs\\python\\python310\\lib\\site-packages (from matplotlib>=2.2->seaborn) (1.3.2)\n",
      "Requirement already satisfied: packaging>=20.0 in c:\\users\\paowm\\appdata\\local\\programs\\python\\python310\\lib\\site-packages (from matplotlib>=2.2->seaborn) (21.3)\n",
      "Requirement already satisfied: pillow>=6.2.0 in c:\\users\\paowm\\appdata\\local\\programs\\python\\python310\\lib\\site-packages (from matplotlib>=2.2->seaborn) (8.4.0)\n",
      "Requirement already satisfied: pyparsing>=2.2.1 in c:\\users\\paowm\\appdata\\local\\programs\\python\\python310\\lib\\site-packages (from matplotlib>=2.2->seaborn) (3.0.6)\n",
      "Requirement already satisfied: python-dateutil>=2.7 in c:\\users\\paowm\\appdata\\local\\programs\\python\\python310\\lib\\site-packages (from matplotlib>=2.2->seaborn) (2.8.2)\n",
      "Requirement already satisfied: pytz>=2017.3 in c:\\users\\paowm\\appdata\\local\\programs\\python\\python310\\lib\\site-packages (from pandas>=0.23->seaborn) (2021.3)\n",
      "Requirement already satisfied: six>=1.5 in c:\\users\\paowm\\appdata\\local\\programs\\python\\python310\\lib\\site-packages (from python-dateutil>=2.7->matplotlib>=2.2->seaborn) (1.16.0)\n"
     ]
    }
   ],
   "source": [
    "%pip install imblearn\n",
    "%pip install pandas\n",
    "%pip install matplotlib\n",
    "%pip install seaborn"
   ]
  },
  {
   "cell_type": "code",
   "execution_count": 2,
   "metadata": {},
   "outputs": [],
   "source": [
    "import pandas as pd\n",
    "import matplotlib.pyplot as plt\n",
    "from scipy import stats\n",
    "import statistics as st\n",
    "import numpy as np\n",
    "import seaborn as sns"
   ]
  },
  {
   "cell_type": "code",
   "execution_count": 3,
   "metadata": {},
   "outputs": [],
   "source": [
    "from sklearn import metrics\n",
    "from sklearn.metrics import *\n",
    "from sklearn.metrics import accuracy_score\n",
    "from sklearn.metrics import precision_score\n",
    "from sklearn.metrics import recall_score\n",
    "from sklearn.metrics import f1_score\n",
    "from sklearn.metrics import confusion_matrix\n",
    "from sklearn.metrics import classification_report\n",
    "from sklearn.linear_model import LogisticRegression"
   ]
  },
  {
   "cell_type": "code",
   "execution_count": 4,
   "metadata": {},
   "outputs": [
    {
     "data": {
      "text/html": [
       "<div>\n",
       "<style scoped>\n",
       "    .dataframe tbody tr th:only-of-type {\n",
       "        vertical-align: middle;\n",
       "    }\n",
       "\n",
       "    .dataframe tbody tr th {\n",
       "        vertical-align: top;\n",
       "    }\n",
       "\n",
       "    .dataframe thead th {\n",
       "        text-align: right;\n",
       "    }\n",
       "</style>\n",
       "<table border=\"1\" class=\"dataframe\">\n",
       "  <thead>\n",
       "    <tr style=\"text-align: right;\">\n",
       "      <th></th>\n",
       "      <th>id</th>\n",
       "      <th>Gender</th>\n",
       "      <th>Age</th>\n",
       "      <th>Driving_License</th>\n",
       "      <th>Region_Code</th>\n",
       "      <th>Previously_Insured</th>\n",
       "      <th>Vehicle_Age</th>\n",
       "      <th>Vehicle_Damage</th>\n",
       "      <th>Annual_Premium</th>\n",
       "      <th>Policy_Sales_Channel</th>\n",
       "      <th>Vintage</th>\n",
       "      <th>Response</th>\n",
       "    </tr>\n",
       "  </thead>\n",
       "  <tbody>\n",
       "    <tr>\n",
       "      <th>0</th>\n",
       "      <td>0</td>\n",
       "      <td>Male</td>\n",
       "      <td>21</td>\n",
       "      <td>1</td>\n",
       "      <td>35.0</td>\n",
       "      <td>0</td>\n",
       "      <td>1-2 Year</td>\n",
       "      <td>Yes</td>\n",
       "      <td>65101.0</td>\n",
       "      <td>124.0</td>\n",
       "      <td>187</td>\n",
       "      <td>0</td>\n",
       "    </tr>\n",
       "    <tr>\n",
       "      <th>1</th>\n",
       "      <td>1</td>\n",
       "      <td>Male</td>\n",
       "      <td>43</td>\n",
       "      <td>1</td>\n",
       "      <td>28.0</td>\n",
       "      <td>0</td>\n",
       "      <td>&gt; 2 Years</td>\n",
       "      <td>Yes</td>\n",
       "      <td>58911.0</td>\n",
       "      <td>26.0</td>\n",
       "      <td>288</td>\n",
       "      <td>1</td>\n",
       "    </tr>\n",
       "    <tr>\n",
       "      <th>2</th>\n",
       "      <td>2</td>\n",
       "      <td>Female</td>\n",
       "      <td>25</td>\n",
       "      <td>1</td>\n",
       "      <td>14.0</td>\n",
       "      <td>1</td>\n",
       "      <td>&lt; 1 Year</td>\n",
       "      <td>No</td>\n",
       "      <td>38043.0</td>\n",
       "      <td>152.0</td>\n",
       "      <td>254</td>\n",
       "      <td>0</td>\n",
       "    </tr>\n",
       "    <tr>\n",
       "      <th>3</th>\n",
       "      <td>3</td>\n",
       "      <td>Female</td>\n",
       "      <td>35</td>\n",
       "      <td>1</td>\n",
       "      <td>1.0</td>\n",
       "      <td>0</td>\n",
       "      <td>1-2 Year</td>\n",
       "      <td>Yes</td>\n",
       "      <td>2630.0</td>\n",
       "      <td>156.0</td>\n",
       "      <td>76</td>\n",
       "      <td>0</td>\n",
       "    </tr>\n",
       "    <tr>\n",
       "      <th>4</th>\n",
       "      <td>4</td>\n",
       "      <td>Female</td>\n",
       "      <td>36</td>\n",
       "      <td>1</td>\n",
       "      <td>15.0</td>\n",
       "      <td>1</td>\n",
       "      <td>1-2 Year</td>\n",
       "      <td>No</td>\n",
       "      <td>31951.0</td>\n",
       "      <td>152.0</td>\n",
       "      <td>294</td>\n",
       "      <td>0</td>\n",
       "    </tr>\n",
       "    <tr>\n",
       "      <th>...</th>\n",
       "      <td>...</td>\n",
       "      <td>...</td>\n",
       "      <td>...</td>\n",
       "      <td>...</td>\n",
       "      <td>...</td>\n",
       "      <td>...</td>\n",
       "      <td>...</td>\n",
       "      <td>...</td>\n",
       "      <td>...</td>\n",
       "      <td>...</td>\n",
       "      <td>...</td>\n",
       "      <td>...</td>\n",
       "    </tr>\n",
       "    <tr>\n",
       "      <th>11504793</th>\n",
       "      <td>11504793</td>\n",
       "      <td>Male</td>\n",
       "      <td>48</td>\n",
       "      <td>1</td>\n",
       "      <td>6.0</td>\n",
       "      <td>0</td>\n",
       "      <td>1-2 Year</td>\n",
       "      <td>Yes</td>\n",
       "      <td>27412.0</td>\n",
       "      <td>26.0</td>\n",
       "      <td>218</td>\n",
       "      <td>0</td>\n",
       "    </tr>\n",
       "    <tr>\n",
       "      <th>11504794</th>\n",
       "      <td>11504794</td>\n",
       "      <td>Female</td>\n",
       "      <td>26</td>\n",
       "      <td>1</td>\n",
       "      <td>36.0</td>\n",
       "      <td>0</td>\n",
       "      <td>&lt; 1 Year</td>\n",
       "      <td>Yes</td>\n",
       "      <td>29509.0</td>\n",
       "      <td>152.0</td>\n",
       "      <td>115</td>\n",
       "      <td>1</td>\n",
       "    </tr>\n",
       "    <tr>\n",
       "      <th>11504795</th>\n",
       "      <td>11504795</td>\n",
       "      <td>Female</td>\n",
       "      <td>29</td>\n",
       "      <td>1</td>\n",
       "      <td>32.0</td>\n",
       "      <td>1</td>\n",
       "      <td>&lt; 1 Year</td>\n",
       "      <td>No</td>\n",
       "      <td>2630.0</td>\n",
       "      <td>152.0</td>\n",
       "      <td>189</td>\n",
       "      <td>0</td>\n",
       "    </tr>\n",
       "    <tr>\n",
       "      <th>11504796</th>\n",
       "      <td>11504796</td>\n",
       "      <td>Female</td>\n",
       "      <td>51</td>\n",
       "      <td>1</td>\n",
       "      <td>28.0</td>\n",
       "      <td>0</td>\n",
       "      <td>1-2 Year</td>\n",
       "      <td>Yes</td>\n",
       "      <td>48443.0</td>\n",
       "      <td>26.0</td>\n",
       "      <td>274</td>\n",
       "      <td>1</td>\n",
       "    </tr>\n",
       "    <tr>\n",
       "      <th>11504797</th>\n",
       "      <td>11504797</td>\n",
       "      <td>Male</td>\n",
       "      <td>25</td>\n",
       "      <td>1</td>\n",
       "      <td>28.0</td>\n",
       "      <td>1</td>\n",
       "      <td>&lt; 1 Year</td>\n",
       "      <td>No</td>\n",
       "      <td>32855.0</td>\n",
       "      <td>152.0</td>\n",
       "      <td>189</td>\n",
       "      <td>0</td>\n",
       "    </tr>\n",
       "  </tbody>\n",
       "</table>\n",
       "<p>11504798 rows × 12 columns</p>\n",
       "</div>"
      ],
      "text/plain": [
       "                id  Gender  Age  Driving_License  Region_Code  \\\n",
       "0                0    Male   21                1         35.0   \n",
       "1                1    Male   43                1         28.0   \n",
       "2                2  Female   25                1         14.0   \n",
       "3                3  Female   35                1          1.0   \n",
       "4                4  Female   36                1         15.0   \n",
       "...            ...     ...  ...              ...          ...   \n",
       "11504793  11504793    Male   48                1          6.0   \n",
       "11504794  11504794  Female   26                1         36.0   \n",
       "11504795  11504795  Female   29                1         32.0   \n",
       "11504796  11504796  Female   51                1         28.0   \n",
       "11504797  11504797    Male   25                1         28.0   \n",
       "\n",
       "          Previously_Insured Vehicle_Age Vehicle_Damage  Annual_Premium  \\\n",
       "0                          0    1-2 Year            Yes         65101.0   \n",
       "1                          0   > 2 Years            Yes         58911.0   \n",
       "2                          1    < 1 Year             No         38043.0   \n",
       "3                          0    1-2 Year            Yes          2630.0   \n",
       "4                          1    1-2 Year             No         31951.0   \n",
       "...                      ...         ...            ...             ...   \n",
       "11504793                   0    1-2 Year            Yes         27412.0   \n",
       "11504794                   0    < 1 Year            Yes         29509.0   \n",
       "11504795                   1    < 1 Year             No          2630.0   \n",
       "11504796                   0    1-2 Year            Yes         48443.0   \n",
       "11504797                   1    < 1 Year             No         32855.0   \n",
       "\n",
       "          Policy_Sales_Channel  Vintage  Response  \n",
       "0                        124.0      187         0  \n",
       "1                         26.0      288         1  \n",
       "2                        152.0      254         0  \n",
       "3                        156.0       76         0  \n",
       "4                        152.0      294         0  \n",
       "...                        ...      ...       ...  \n",
       "11504793                  26.0      218         0  \n",
       "11504794                 152.0      115         1  \n",
       "11504795                 152.0      189         0  \n",
       "11504796                  26.0      274         1  \n",
       "11504797                 152.0      189         0  \n",
       "\n",
       "[11504798 rows x 12 columns]"
      ]
     },
     "execution_count": 4,
     "metadata": {},
     "output_type": "execute_result"
    }
   ],
   "source": [
    "# Upload the train dataset\n",
    "df = pd.read_csv(r'C:\\Users\\paowm\\Downloads\\train_class.csv')\n",
    "df"
   ]
  },
  {
   "cell_type": "code",
   "execution_count": 5,
   "metadata": {},
   "outputs": [
    {
     "name": "stdout",
     "output_type": "stream",
     "text": [
      "<class 'pandas.core.frame.DataFrame'>\n",
      "RangeIndex: 11504798 entries, 0 to 11504797\n",
      "Data columns (total 12 columns):\n",
      " #   Column                Dtype  \n",
      "---  ------                -----  \n",
      " 0   id                    int64  \n",
      " 1   Gender                object \n",
      " 2   Age                   int64  \n",
      " 3   Driving_License       int64  \n",
      " 4   Region_Code           float64\n",
      " 5   Previously_Insured    int64  \n",
      " 6   Vehicle_Age           object \n",
      " 7   Vehicle_Damage        object \n",
      " 8   Annual_Premium        float64\n",
      " 9   Policy_Sales_Channel  float64\n",
      " 10  Vintage               int64  \n",
      " 11  Response              int64  \n",
      "dtypes: float64(3), int64(6), object(3)\n",
      "memory usage: 1.0+ GB\n"
     ]
    }
   ],
   "source": [
    "df.info()"
   ]
  },
  {
   "cell_type": "code",
   "execution_count": 6,
   "metadata": {},
   "outputs": [
    {
     "data": {
      "text/html": [
       "<div>\n",
       "<style scoped>\n",
       "    .dataframe tbody tr th:only-of-type {\n",
       "        vertical-align: middle;\n",
       "    }\n",
       "\n",
       "    .dataframe tbody tr th {\n",
       "        vertical-align: top;\n",
       "    }\n",
       "\n",
       "    .dataframe thead th {\n",
       "        text-align: right;\n",
       "    }\n",
       "</style>\n",
       "<table border=\"1\" class=\"dataframe\">\n",
       "  <thead>\n",
       "    <tr style=\"text-align: right;\">\n",
       "      <th></th>\n",
       "      <th>id</th>\n",
       "      <th>Age</th>\n",
       "      <th>Driving_License</th>\n",
       "      <th>Region_Code</th>\n",
       "      <th>Previously_Insured</th>\n",
       "      <th>Annual_Premium</th>\n",
       "      <th>Policy_Sales_Channel</th>\n",
       "      <th>Vintage</th>\n",
       "      <th>Response</th>\n",
       "    </tr>\n",
       "  </thead>\n",
       "  <tbody>\n",
       "    <tr>\n",
       "      <th>count</th>\n",
       "      <td>1.150480e+07</td>\n",
       "      <td>1.150480e+07</td>\n",
       "      <td>1.150480e+07</td>\n",
       "      <td>1.150480e+07</td>\n",
       "      <td>1.150480e+07</td>\n",
       "      <td>1.150480e+07</td>\n",
       "      <td>1.150480e+07</td>\n",
       "      <td>1.150480e+07</td>\n",
       "      <td>1.150480e+07</td>\n",
       "    </tr>\n",
       "    <tr>\n",
       "      <th>mean</th>\n",
       "      <td>5.752398e+06</td>\n",
       "      <td>3.838356e+01</td>\n",
       "      <td>9.980220e-01</td>\n",
       "      <td>2.641869e+01</td>\n",
       "      <td>4.629966e-01</td>\n",
       "      <td>3.046137e+04</td>\n",
       "      <td>1.124254e+02</td>\n",
       "      <td>1.638977e+02</td>\n",
       "      <td>1.229973e-01</td>\n",
       "    </tr>\n",
       "    <tr>\n",
       "      <th>std</th>\n",
       "      <td>3.321149e+06</td>\n",
       "      <td>1.499346e+01</td>\n",
       "      <td>4.443120e-02</td>\n",
       "      <td>1.299159e+01</td>\n",
       "      <td>4.986289e-01</td>\n",
       "      <td>1.645475e+04</td>\n",
       "      <td>5.403571e+01</td>\n",
       "      <td>7.997953e+01</td>\n",
       "      <td>3.284341e-01</td>\n",
       "    </tr>\n",
       "    <tr>\n",
       "      <th>min</th>\n",
       "      <td>0.000000e+00</td>\n",
       "      <td>2.000000e+01</td>\n",
       "      <td>0.000000e+00</td>\n",
       "      <td>0.000000e+00</td>\n",
       "      <td>0.000000e+00</td>\n",
       "      <td>2.630000e+03</td>\n",
       "      <td>1.000000e+00</td>\n",
       "      <td>1.000000e+01</td>\n",
       "      <td>0.000000e+00</td>\n",
       "    </tr>\n",
       "    <tr>\n",
       "      <th>25%</th>\n",
       "      <td>2.876199e+06</td>\n",
       "      <td>2.400000e+01</td>\n",
       "      <td>1.000000e+00</td>\n",
       "      <td>1.500000e+01</td>\n",
       "      <td>0.000000e+00</td>\n",
       "      <td>2.527700e+04</td>\n",
       "      <td>2.900000e+01</td>\n",
       "      <td>9.900000e+01</td>\n",
       "      <td>0.000000e+00</td>\n",
       "    </tr>\n",
       "    <tr>\n",
       "      <th>50%</th>\n",
       "      <td>5.752398e+06</td>\n",
       "      <td>3.600000e+01</td>\n",
       "      <td>1.000000e+00</td>\n",
       "      <td>2.800000e+01</td>\n",
       "      <td>0.000000e+00</td>\n",
       "      <td>3.182400e+04</td>\n",
       "      <td>1.510000e+02</td>\n",
       "      <td>1.660000e+02</td>\n",
       "      <td>0.000000e+00</td>\n",
       "    </tr>\n",
       "    <tr>\n",
       "      <th>75%</th>\n",
       "      <td>8.628598e+06</td>\n",
       "      <td>4.900000e+01</td>\n",
       "      <td>1.000000e+00</td>\n",
       "      <td>3.500000e+01</td>\n",
       "      <td>1.000000e+00</td>\n",
       "      <td>3.945100e+04</td>\n",
       "      <td>1.520000e+02</td>\n",
       "      <td>2.320000e+02</td>\n",
       "      <td>0.000000e+00</td>\n",
       "    </tr>\n",
       "    <tr>\n",
       "      <th>max</th>\n",
       "      <td>1.150480e+07</td>\n",
       "      <td>8.500000e+01</td>\n",
       "      <td>1.000000e+00</td>\n",
       "      <td>5.200000e+01</td>\n",
       "      <td>1.000000e+00</td>\n",
       "      <td>5.401650e+05</td>\n",
       "      <td>1.630000e+02</td>\n",
       "      <td>2.990000e+02</td>\n",
       "      <td>1.000000e+00</td>\n",
       "    </tr>\n",
       "  </tbody>\n",
       "</table>\n",
       "</div>"
      ],
      "text/plain": [
       "                 id           Age  Driving_License   Region_Code  \\\n",
       "count  1.150480e+07  1.150480e+07     1.150480e+07  1.150480e+07   \n",
       "mean   5.752398e+06  3.838356e+01     9.980220e-01  2.641869e+01   \n",
       "std    3.321149e+06  1.499346e+01     4.443120e-02  1.299159e+01   \n",
       "min    0.000000e+00  2.000000e+01     0.000000e+00  0.000000e+00   \n",
       "25%    2.876199e+06  2.400000e+01     1.000000e+00  1.500000e+01   \n",
       "50%    5.752398e+06  3.600000e+01     1.000000e+00  2.800000e+01   \n",
       "75%    8.628598e+06  4.900000e+01     1.000000e+00  3.500000e+01   \n",
       "max    1.150480e+07  8.500000e+01     1.000000e+00  5.200000e+01   \n",
       "\n",
       "       Previously_Insured  Annual_Premium  Policy_Sales_Channel       Vintage  \\\n",
       "count        1.150480e+07    1.150480e+07          1.150480e+07  1.150480e+07   \n",
       "mean         4.629966e-01    3.046137e+04          1.124254e+02  1.638977e+02   \n",
       "std          4.986289e-01    1.645475e+04          5.403571e+01  7.997953e+01   \n",
       "min          0.000000e+00    2.630000e+03          1.000000e+00  1.000000e+01   \n",
       "25%          0.000000e+00    2.527700e+04          2.900000e+01  9.900000e+01   \n",
       "50%          0.000000e+00    3.182400e+04          1.510000e+02  1.660000e+02   \n",
       "75%          1.000000e+00    3.945100e+04          1.520000e+02  2.320000e+02   \n",
       "max          1.000000e+00    5.401650e+05          1.630000e+02  2.990000e+02   \n",
       "\n",
       "           Response  \n",
       "count  1.150480e+07  \n",
       "mean   1.229973e-01  \n",
       "std    3.284341e-01  \n",
       "min    0.000000e+00  \n",
       "25%    0.000000e+00  \n",
       "50%    0.000000e+00  \n",
       "75%    0.000000e+00  \n",
       "max    1.000000e+00  "
      ]
     },
     "execution_count": 6,
     "metadata": {},
     "output_type": "execute_result"
    }
   ],
   "source": [
    "df.describe()"
   ]
  },
  {
   "cell_type": "markdown",
   "metadata": {},
   "source": [
    "### Check for missing values"
   ]
  },
  {
   "cell_type": "code",
   "execution_count": 7,
   "metadata": {},
   "outputs": [
    {
     "name": "stdout",
     "output_type": "stream",
     "text": [
      "Number of nulls in df: 0\n"
     ]
    }
   ],
   "source": [
    "null_value_count = df.isnull().sum().sum()\n",
    "print(f\"Number of nulls in df: {null_value_count}\")"
   ]
  },
  {
   "cell_type": "markdown",
   "metadata": {},
   "source": [
    "No missing values (nulls) found in the dataset."
   ]
  },
  {
   "cell_type": "markdown",
   "metadata": {},
   "source": [
    "### Check for duplicated rows"
   ]
  },
  {
   "cell_type": "code",
   "execution_count": 8,
   "metadata": {},
   "outputs": [],
   "source": [
    "duplicate_rows = df.duplicated()"
   ]
  },
  {
   "cell_type": "code",
   "execution_count": 9,
   "metadata": {},
   "outputs": [
    {
     "data": {
      "text/plain": [
       "False    11504798\n",
       "dtype: int64"
      ]
     },
     "execution_count": 9,
     "metadata": {},
     "output_type": "execute_result"
    }
   ],
   "source": [
    "duplicate_rows.value_counts()"
   ]
  },
  {
   "cell_type": "markdown",
   "metadata": {},
   "source": [
    "No duplicated rows found in the dataset."
   ]
  },
  {
   "cell_type": "markdown",
   "metadata": {},
   "source": [
    "### 1. EDA"
   ]
  },
  {
   "cell_type": "markdown",
   "metadata": {},
   "source": [
    "###  Gender"
   ]
  },
  {
   "cell_type": "code",
   "execution_count": 10,
   "metadata": {},
   "outputs": [
    {
     "data": {
      "text/plain": [
       "<AxesSubplot:xlabel='Gender', ylabel='Count'>"
      ]
     },
     "execution_count": 10,
     "metadata": {},
     "output_type": "execute_result"
    },
    {
     "data": {
      "image/png": "[encoded data removed]",
      "text/plain": [
       "<Figure size 432x288 with 1 Axes>"
      ]
     },
     "metadata": {
      "needs_background": "light"
     },
     "output_type": "display_data"
    }
   ],
   "source": [
    "sns.histplot(data=df, x='Gender', kde=True, color=\"skyblue\")"
   ]
  },
  {
   "cell_type": "code",
   "execution_count": 11,
   "metadata": {},
   "outputs": [
    {
     "data": {
      "text/plain": [
       "Male      6228134\n",
       "Female    5276664\n",
       "Name: Gender, dtype: int64"
      ]
     },
     "execution_count": 11,
     "metadata": {},
     "output_type": "execute_result"
    }
   ],
   "source": [
    "df['Gender'].value_counts()"
   ]
  },
  {
   "cell_type": "markdown",
   "metadata": {},
   "source": [
    "### Age"
   ]
  },
  {
   "cell_type": "code",
   "execution_count": 12,
   "metadata": {},
   "outputs": [
    {
     "data": {
      "text/plain": [
       "<AxesSubplot:xlabel='Age', ylabel='Count'>"
      ]
     },
     "execution_count": 12,
     "metadata": {},
     "output_type": "execute_result"
    },
    {
     "data": {
      "image/png": "[encoded data removed]",
      "text/plain": [
       "<Figure size 432x288 with 1 Axes>"
      ]
     },
     "metadata": {
      "needs_background": "light"
     },
     "output_type": "display_data"
    }
   ],
   "source": [
    "sns.histplot(data=df, x='Age', kde=True, color=\"skyblue\")"
   ]
  },
  {
   "cell_type": "code",
   "execution_count": 13,
   "metadata": {},
   "outputs": [
    {
     "data": {
      "image/png": "[encoded data removed]",
      "text/plain": [
       "<Figure size 432x288 with 1 Axes>"
      ]
     },
     "metadata": {
      "needs_background": "light"
     },
     "output_type": "display_data"
    }
   ],
   "source": [
    "ax = sns.boxplot(x='Response', y='Age', data=df)"
   ]
  },
  {
   "cell_type": "markdown",
   "metadata": {},
   "source": [
    "The boxplot above tells us that the median age of the customers that not acquired the vehicle insurance in past years is around 33-34 years old while the median age of the customers that did acquire is around 43-45."
   ]
  },
  {
   "cell_type": "markdown",
   "metadata": {},
   "source": [
    "### Driving_License"
   ]
  },
  {
   "cell_type": "code",
   "execution_count": 14,
   "metadata": {},
   "outputs": [
    {
     "data": {
      "text/plain": [
       "<AxesSubplot:xlabel='Driving_License', ylabel='Count'>"
      ]
     },
     "execution_count": 14,
     "metadata": {},
     "output_type": "execute_result"
    },
    {
     "data": {
      "image/png": "[encoded data removed]",
      "text/plain": [
       "<Figure size 432x288 with 1 Axes>"
      ]
     },
     "metadata": {
      "needs_background": "light"
     },
     "output_type": "display_data"
    }
   ],
   "source": [
    "sns.histplot(data=df, x='Driving_License', kde=True, color=\"skyblue\")"
   ]
  },
  {
   "cell_type": "code",
   "execution_count": 15,
   "metadata": {},
   "outputs": [
    {
     "data": {
      "text/plain": [
       "1    11482041\n",
       "0       22757\n",
       "Name: Driving_License, dtype: int64"
      ]
     },
     "execution_count": 15,
     "metadata": {},
     "output_type": "execute_result"
    }
   ],
   "source": [
    "df['Driving_License'].value_counts()"
   ]
  },
  {
   "cell_type": "markdown",
   "metadata": {},
   "source": [
    "In our dataset, there are over 11M (99.8%) customers that have a driver's licence vs only 22K(0.2%) that do not have a driver's license."
   ]
  },
  {
   "cell_type": "markdown",
   "metadata": {},
   "source": [
    "### Region_Code"
   ]
  },
  {
   "cell_type": "code",
   "execution_count": 16,
   "metadata": {},
   "outputs": [
    {
     "data": {
      "text/plain": [
       "<AxesSubplot:xlabel='Region_Code', ylabel='Count'>"
      ]
     },
     "execution_count": 16,
     "metadata": {},
     "output_type": "execute_result"
    },
    {
     "data": {
      "image/png": "[encoded data removed]",
      "text/plain": [
       "<Figure size 432x288 with 1 Axes>"
      ]
     },
     "metadata": {
      "needs_background": "light"
     },
     "output_type": "display_data"
    }
   ],
   "source": [
    "sns.histplot(data=df, x='Region_Code', kde=True, color=\"skyblue\")"
   ]
  },
  {
   "cell_type": "code",
   "execution_count": 17,
   "metadata": {},
   "outputs": [
    {
     "data": {
      "text/plain": [
       "28.0    3451062\n",
       "8.0     1021036\n",
       "46.0     578208\n",
       "41.0     557581\n",
       "15.0     403977\n",
       "30.0     367307\n",
       "29.0     338146\n",
       "50.0     302334\n",
       "11.0     278261\n",
       "36.0     261946\n",
       "3.0      246303\n",
       "33.0     232387\n",
       "47.0     229190\n",
       "35.0     200035\n",
       "6.0      181122\n",
       "45.0     159292\n",
       "37.0     158976\n",
       "18.0     148548\n",
       "39.0     138068\n",
       "14.0     134585\n",
       "21.0     126793\n",
       "10.0     126081\n",
       "2.0      118097\n",
       "48.0     114230\n",
       "13.0     108838\n",
       "9.0       93371\n",
       "7.0       92240\n",
       "12.0      92142\n",
       "27.0      78878\n",
       "32.0      78797\n",
       "43.0      75868\n",
       "17.0      74533\n",
       "26.0      71228\n",
       "25.0      70556\n",
       "24.0      69136\n",
       "38.0      60587\n",
       "0.0       59274\n",
       "20.0      58765\n",
       "31.0      58442\n",
       "16.0      54905\n",
       "23.0      54518\n",
       "4.0       52504\n",
       "49.0      50822\n",
       "34.0      48685\n",
       "19.0      44197\n",
       "22.0      36932\n",
       "5.0       36832\n",
       "40.0      35888\n",
       "1.0       33966\n",
       "44.0      20305\n",
       "42.0      13693\n",
       "52.0       3450\n",
       "51.0       1880\n",
       "39.2          1\n",
       "Name: Region_Code, dtype: int64"
      ]
     },
     "execution_count": 17,
     "metadata": {},
     "output_type": "execute_result"
    }
   ],
   "source": [
    "df['Region_Code'].value_counts()"
   ]
  },
  {
   "cell_type": "markdown",
   "metadata": {},
   "source": [
    "### Vehicle_Age"
   ]
  },
  {
   "cell_type": "code",
   "execution_count": 18,
   "metadata": {},
   "outputs": [
    {
     "data": {
      "image/png": "[encoded data removed]",
      "text/plain": [
       "<Figure size 720x432 with 1 Axes>"
      ]
     },
     "metadata": {
      "needs_background": "light"
     },
     "output_type": "display_data"
    }
   ],
   "source": [
    "plt.figure(figsize=(10, 6))\n",
    "sns.histplot(df['Vehicle_Age'], kde=False, bins=10)\n",
    "plt.title('Distribution of Vehicle_Age')\n",
    "plt.xlabel('Vehicle_Age')\n",
    "plt.ylabel('Frequency')\n",
    "plt.show()"
   ]
  },
  {
   "cell_type": "code",
   "execution_count": 19,
   "metadata": {},
   "outputs": [
    {
     "data": {
      "text/plain": [
       "1-2 Year     0.520016\n",
       "< 1 Year     0.438438\n",
       "> 2 Years    0.041546\n",
       "Name: Vehicle_Age, dtype: float64"
      ]
     },
     "execution_count": 19,
     "metadata": {},
     "output_type": "execute_result"
    }
   ],
   "source": [
    "df['Vehicle_Age']. value_counts(normalize=True)"
   ]
  },
  {
   "cell_type": "markdown",
   "metadata": {},
   "source": [
    "We can see that most of the vehicles (95%) are fairly new (2 years old or less) while 5% are older than 2 years old."
   ]
  },
  {
   "cell_type": "markdown",
   "metadata": {},
   "source": [
    "### Previously_Insured"
   ]
  },
  {
   "cell_type": "code",
   "execution_count": 20,
   "metadata": {},
   "outputs": [
    {
     "data": {
      "text/plain": [
       "<AxesSubplot:xlabel='Previously_Insured', ylabel='Count'>"
      ]
     },
     "execution_count": 20,
     "metadata": {},
     "output_type": "execute_result"
    },
    {
     "data": {
      "image/png": "[encoded data removed]",
      "text/plain": [
       "<Figure size 432x288 with 1 Axes>"
      ]
     },
     "metadata": {
      "needs_background": "light"
     },
     "output_type": "display_data"
    }
   ],
   "source": [
    "sns.histplot(data=df, x='Previously_Insured', kde=True, color=\"skyblue\")"
   ]
  },
  {
   "cell_type": "code",
   "execution_count": 21,
   "metadata": {},
   "outputs": [
    {
     "data": {
      "text/plain": [
       "0    0.537003\n",
       "1    0.462997\n",
       "Name: Previously_Insured, dtype: float64"
      ]
     },
     "execution_count": 21,
     "metadata": {},
     "output_type": "execute_result"
    }
   ],
   "source": [
    "df['Previously_Insured'].value_counts(normalize=True)"
   ]
  },
  {
   "cell_type": "markdown",
   "metadata": {},
   "source": [
    "Customers who are previously insured with the company are 46% while 54% of customers are not previously insured."
   ]
  },
  {
   "cell_type": "markdown",
   "metadata": {},
   "source": [
    "We would like to compare if customers that respond positively are previously insured or not. A contigency table can help us see the recurring customers."
   ]
  },
  {
   "cell_type": "code",
   "execution_count": 22,
   "metadata": {},
   "outputs": [
    {
     "data": {
      "image/png": "[encoded data removed]",
      "text/plain": [
       "<Figure size 576x432 with 2 Axes>"
      ]
     },
     "metadata": {
      "needs_background": "light"
     },
     "output_type": "display_data"
    }
   ],
   "source": [
    "# Create the contingency table\n",
    "contingency_table = pd.crosstab(df['Previously_Insured'], df['Response'])\n",
    "\n",
    "# Calculate total observations\n",
    "total = contingency_table.sum().sum()\n",
    "\n",
    "# Convert to percentages\n",
    "percentage_table = (contingency_table / total) * 100\n",
    "\n",
    "# Create the heatmap\n",
    "plt.figure(figsize=(8, 6))  # Adjust the figure size if needed\n",
    "sns.heatmap(percentage_table, annot=True, cmap=\"YlGnBu\", fmt='.1f', cbar_kws={'label': 'Percentage'})\n",
    "plt.title('Heatmap of Binary Variables A and B (Percentages)')\n",
    "plt.xlabel('Response')\n",
    "plt.ylabel('Previously_Insured')\n",
    "plt.show()"
   ]
  },
  {
   "cell_type": "markdown",
   "metadata": {},
   "source": [
    "From the heatmap above, we can infer that the presence of imbalance in the target variable 'Response' since around 88% of customers did not acquire the insurance policy while only 12% acquired it. We will need to treat the imbalance before running the model."
   ]
  },
  {
   "cell_type": "markdown",
   "metadata": {},
   "source": [
    "### Annual_Premium"
   ]
  },
  {
   "cell_type": "code",
   "execution_count": 23,
   "metadata": {},
   "outputs": [
    {
     "data": {
      "image/png": "[encoded data removed]",
      "text/plain": [
       "<Figure size 432x288 with 1 Axes>"
      ]
     },
     "metadata": {
      "needs_background": "light"
     },
     "output_type": "display_data"
    }
   ],
   "source": [
    "ax = sns.boxplot(x='Response', y='Annual_Premium', data=df)"
   ]
  },
  {
   "cell_type": "code",
   "execution_count": 24,
   "metadata": {},
   "outputs": [
    {
     "data": {
      "text/plain": [
       "Response\n",
       "0    31611.0\n",
       "1    34184.0\n",
       "Name: Annual_Premium, dtype: float64"
      ]
     },
     "execution_count": 24,
     "metadata": {},
     "output_type": "execute_result"
    }
   ],
   "source": [
    "# Calculate the annual premium median by Response\n",
    "medians = df.groupby('Response')['Annual_Premium'].median()\n",
    "medians"
   ]
  },
  {
   "cell_type": "markdown",
   "metadata": {},
   "source": [
    "The annual premium median for customers that acquired the policy is $3K larger than customers that did not get the policy, $34K vs $31K respectively, this could mean this new policy has a higher cost for customers."
   ]
  },
  {
   "cell_type": "markdown",
   "metadata": {},
   "source": [
    "### Policy_Sales_Channel"
   ]
  },
  {
   "cell_type": "code",
   "execution_count": 25,
   "metadata": {},
   "outputs": [
    {
     "data": {
      "image/png": "[encoded data removed]",
      "text/plain": [
       "<Figure size 720x432 with 1 Axes>"
      ]
     },
     "metadata": {
      "needs_background": "light"
     },
     "output_type": "display_data"
    }
   ],
   "source": [
    "plt.figure(figsize=(10, 6))\n",
    "sns.histplot(df['Policy_Sales_Channel'], kde=False, bins=10)\n",
    "plt.title('Distribution of Policy_Sales_Channel')\n",
    "plt.xlabel('Policy_Sales_Channel')\n",
    "plt.ylabel('Frequency')\n",
    "plt.show()"
   ]
  },
  {
   "cell_type": "code",
   "execution_count": 26,
   "metadata": {},
   "outputs": [
    {
     "data": {
      "text/plain": [
       "152.0    3.621257e-01\n",
       "26.0     2.115166e-01\n",
       "124.0    1.968301e-01\n",
       "160.0    5.566199e-02\n",
       "156.0    2.752704e-02\n",
       "             ...     \n",
       "102.0    3.476810e-07\n",
       "112.0    2.607608e-07\n",
       "27.0     1.738405e-07\n",
       "6.0      8.692026e-08\n",
       "5.0      8.692026e-08\n",
       "Name: Policy_Sales_Channel, Length: 152, dtype: float64"
      ]
     },
     "execution_count": 26,
     "metadata": {},
     "output_type": "execute_result"
    }
   ],
   "source": [
    "df['Policy_Sales_Channel'].value_counts(normalize=True)"
   ]
  },
  {
   "cell_type": "markdown",
   "metadata": {},
   "source": [
    "Most frequent policy sales channel are 152, 26 and 124 with 36%, 21% and 20% respectively."
   ]
  },
  {
   "cell_type": "markdown",
   "metadata": {},
   "source": [
    "### Response"
   ]
  },
  {
   "cell_type": "code",
   "execution_count": 27,
   "metadata": {},
   "outputs": [
    {
     "data": {
      "image/png": "[encoded data removed]",
      "text/plain": [
       "<Figure size 720x432 with 1 Axes>"
      ]
     },
     "metadata": {
      "needs_background": "light"
     },
     "output_type": "display_data"
    }
   ],
   "source": [
    "plt.figure(figsize=(10, 6))\n",
    "sns.histplot(df['Response'], kde=False, bins=10)\n",
    "plt.title('Distribution of Policy_Sales_Channel')\n",
    "plt.xlabel('Policy_Sales_Channel')\n",
    "plt.ylabel('Frequency')\n",
    "plt.show()"
   ]
  },
  {
   "cell_type": "code",
   "execution_count": 28,
   "metadata": {},
   "outputs": [
    {
     "data": {
      "text/plain": [
       "0    0.877003\n",
       "1    0.122997\n",
       "Name: Response, dtype: float64"
      ]
     },
     "execution_count": 28,
     "metadata": {},
     "output_type": "execute_result"
    }
   ],
   "source": [
    "df['Response'].value_counts(normalize=True)"
   ]
  },
  {
   "cell_type": "markdown",
   "metadata": {},
   "source": [
    "As we mentioned before, we have a large imbalance in the target variable 'Response' which is an issue as predictions will be biased towards the majority class (Response = 0)."
   ]
  },
  {
   "cell_type": "markdown",
   "metadata": {},
   "source": [
    "### Testing Dataset"
   ]
  },
  {
   "cell_type": "code",
   "execution_count": 29,
   "metadata": {},
   "outputs": [],
   "source": [
    "# Upload the test dataset\n",
    "df_test = pd.read_csv(r'C:\\Users\\paowm\\Downloads\\test_class.csv')"
   ]
  },
  {
   "cell_type": "code",
   "execution_count": 30,
   "metadata": {},
   "outputs": [
    {
     "data": {
      "text/html": [
       "<div>\n",
       "<style scoped>\n",
       "    .dataframe tbody tr th:only-of-type {\n",
       "        vertical-align: middle;\n",
       "    }\n",
       "\n",
       "    .dataframe tbody tr th {\n",
       "        vertical-align: top;\n",
       "    }\n",
       "\n",
       "    .dataframe thead th {\n",
       "        text-align: right;\n",
       "    }\n",
       "</style>\n",
       "<table border=\"1\" class=\"dataframe\">\n",
       "  <thead>\n",
       "    <tr style=\"text-align: right;\">\n",
       "      <th></th>\n",
       "      <th>id</th>\n",
       "      <th>Gender</th>\n",
       "      <th>Age</th>\n",
       "      <th>Driving_License</th>\n",
       "      <th>Region_Code</th>\n",
       "      <th>Previously_Insured</th>\n",
       "      <th>Vehicle_Age</th>\n",
       "      <th>Vehicle_Damage</th>\n",
       "      <th>Annual_Premium</th>\n",
       "      <th>Policy_Sales_Channel</th>\n",
       "      <th>Vintage</th>\n",
       "    </tr>\n",
       "  </thead>\n",
       "  <tbody>\n",
       "    <tr>\n",
       "      <th>0</th>\n",
       "      <td>11504798</td>\n",
       "      <td>Female</td>\n",
       "      <td>20</td>\n",
       "      <td>1</td>\n",
       "      <td>47.0</td>\n",
       "      <td>0</td>\n",
       "      <td>&lt; 1 Year</td>\n",
       "      <td>No</td>\n",
       "      <td>2630.0</td>\n",
       "      <td>160.0</td>\n",
       "      <td>228</td>\n",
       "    </tr>\n",
       "    <tr>\n",
       "      <th>1</th>\n",
       "      <td>11504799</td>\n",
       "      <td>Male</td>\n",
       "      <td>47</td>\n",
       "      <td>1</td>\n",
       "      <td>28.0</td>\n",
       "      <td>0</td>\n",
       "      <td>1-2 Year</td>\n",
       "      <td>Yes</td>\n",
       "      <td>37483.0</td>\n",
       "      <td>124.0</td>\n",
       "      <td>123</td>\n",
       "    </tr>\n",
       "    <tr>\n",
       "      <th>2</th>\n",
       "      <td>11504800</td>\n",
       "      <td>Male</td>\n",
       "      <td>47</td>\n",
       "      <td>1</td>\n",
       "      <td>43.0</td>\n",
       "      <td>0</td>\n",
       "      <td>1-2 Year</td>\n",
       "      <td>Yes</td>\n",
       "      <td>2630.0</td>\n",
       "      <td>26.0</td>\n",
       "      <td>271</td>\n",
       "    </tr>\n",
       "    <tr>\n",
       "      <th>3</th>\n",
       "      <td>11504801</td>\n",
       "      <td>Female</td>\n",
       "      <td>22</td>\n",
       "      <td>1</td>\n",
       "      <td>47.0</td>\n",
       "      <td>1</td>\n",
       "      <td>&lt; 1 Year</td>\n",
       "      <td>No</td>\n",
       "      <td>24502.0</td>\n",
       "      <td>152.0</td>\n",
       "      <td>115</td>\n",
       "    </tr>\n",
       "    <tr>\n",
       "      <th>4</th>\n",
       "      <td>11504802</td>\n",
       "      <td>Male</td>\n",
       "      <td>51</td>\n",
       "      <td>1</td>\n",
       "      <td>19.0</td>\n",
       "      <td>0</td>\n",
       "      <td>1-2 Year</td>\n",
       "      <td>No</td>\n",
       "      <td>34115.0</td>\n",
       "      <td>124.0</td>\n",
       "      <td>148</td>\n",
       "    </tr>\n",
       "    <tr>\n",
       "      <th>...</th>\n",
       "      <td>...</td>\n",
       "      <td>...</td>\n",
       "      <td>...</td>\n",
       "      <td>...</td>\n",
       "      <td>...</td>\n",
       "      <td>...</td>\n",
       "      <td>...</td>\n",
       "      <td>...</td>\n",
       "      <td>...</td>\n",
       "      <td>...</td>\n",
       "      <td>...</td>\n",
       "    </tr>\n",
       "    <tr>\n",
       "      <th>7669861</th>\n",
       "      <td>19174659</td>\n",
       "      <td>Male</td>\n",
       "      <td>57</td>\n",
       "      <td>1</td>\n",
       "      <td>28.0</td>\n",
       "      <td>0</td>\n",
       "      <td>1-2 Year</td>\n",
       "      <td>Yes</td>\n",
       "      <td>51661.0</td>\n",
       "      <td>124.0</td>\n",
       "      <td>109</td>\n",
       "    </tr>\n",
       "    <tr>\n",
       "      <th>7669862</th>\n",
       "      <td>19174660</td>\n",
       "      <td>Male</td>\n",
       "      <td>28</td>\n",
       "      <td>1</td>\n",
       "      <td>50.0</td>\n",
       "      <td>1</td>\n",
       "      <td>&lt; 1 Year</td>\n",
       "      <td>No</td>\n",
       "      <td>25651.0</td>\n",
       "      <td>152.0</td>\n",
       "      <td>184</td>\n",
       "    </tr>\n",
       "    <tr>\n",
       "      <th>7669863</th>\n",
       "      <td>19174661</td>\n",
       "      <td>Male</td>\n",
       "      <td>47</td>\n",
       "      <td>1</td>\n",
       "      <td>33.0</td>\n",
       "      <td>1</td>\n",
       "      <td>1-2 Year</td>\n",
       "      <td>No</td>\n",
       "      <td>2630.0</td>\n",
       "      <td>138.0</td>\n",
       "      <td>63</td>\n",
       "    </tr>\n",
       "    <tr>\n",
       "      <th>7669864</th>\n",
       "      <td>19174662</td>\n",
       "      <td>Male</td>\n",
       "      <td>30</td>\n",
       "      <td>1</td>\n",
       "      <td>28.0</td>\n",
       "      <td>0</td>\n",
       "      <td>&lt; 1 Year</td>\n",
       "      <td>Yes</td>\n",
       "      <td>38866.0</td>\n",
       "      <td>124.0</td>\n",
       "      <td>119</td>\n",
       "    </tr>\n",
       "    <tr>\n",
       "      <th>7669865</th>\n",
       "      <td>19174663</td>\n",
       "      <td>Male</td>\n",
       "      <td>23</td>\n",
       "      <td>1</td>\n",
       "      <td>46.0</td>\n",
       "      <td>1</td>\n",
       "      <td>&lt; 1 Year</td>\n",
       "      <td>No</td>\n",
       "      <td>27498.0</td>\n",
       "      <td>152.0</td>\n",
       "      <td>79</td>\n",
       "    </tr>\n",
       "  </tbody>\n",
       "</table>\n",
       "<p>7669866 rows × 11 columns</p>\n",
       "</div>"
      ],
      "text/plain": [
       "               id  Gender  Age  Driving_License  Region_Code  \\\n",
       "0        11504798  Female   20                1         47.0   \n",
       "1        11504799    Male   47                1         28.0   \n",
       "2        11504800    Male   47                1         43.0   \n",
       "3        11504801  Female   22                1         47.0   \n",
       "4        11504802    Male   51                1         19.0   \n",
       "...           ...     ...  ...              ...          ...   \n",
       "7669861  19174659    Male   57                1         28.0   \n",
       "7669862  19174660    Male   28                1         50.0   \n",
       "7669863  19174661    Male   47                1         33.0   \n",
       "7669864  19174662    Male   30                1         28.0   \n",
       "7669865  19174663    Male   23                1         46.0   \n",
       "\n",
       "         Previously_Insured Vehicle_Age Vehicle_Damage  Annual_Premium  \\\n",
       "0                         0    < 1 Year             No          2630.0   \n",
       "1                         0    1-2 Year            Yes         37483.0   \n",
       "2                         0    1-2 Year            Yes          2630.0   \n",
       "3                         1    < 1 Year             No         24502.0   \n",
       "4                         0    1-2 Year             No         34115.0   \n",
       "...                     ...         ...            ...             ...   \n",
       "7669861                   0    1-2 Year            Yes         51661.0   \n",
       "7669862                   1    < 1 Year             No         25651.0   \n",
       "7669863                   1    1-2 Year             No          2630.0   \n",
       "7669864                   0    < 1 Year            Yes         38866.0   \n",
       "7669865                   1    < 1 Year             No         27498.0   \n",
       "\n",
       "         Policy_Sales_Channel  Vintage  \n",
       "0                       160.0      228  \n",
       "1                       124.0      123  \n",
       "2                        26.0      271  \n",
       "3                       152.0      115  \n",
       "4                       124.0      148  \n",
       "...                       ...      ...  \n",
       "7669861                 124.0      109  \n",
       "7669862                 152.0      184  \n",
       "7669863                 138.0       63  \n",
       "7669864                 124.0      119  \n",
       "7669865                 152.0       79  \n",
       "\n",
       "[7669866 rows x 11 columns]"
      ]
     },
     "execution_count": 30,
     "metadata": {},
     "output_type": "execute_result"
    }
   ],
   "source": [
    "df_test"
   ]
  },
  {
   "cell_type": "markdown",
   "metadata": {},
   "source": [
    "### Data Preparation"
   ]
  },
  {
   "cell_type": "code",
   "execution_count": 31,
   "metadata": {},
   "outputs": [],
   "source": [
    "# Cast data type object to category to apply the get_dummy method\n",
    "df[df.select_dtypes(['object']).columns] = df.select_dtypes('object').apply(lambda x:x.astype('category'))"
   ]
  },
  {
   "cell_type": "code",
   "execution_count": 32,
   "metadata": {},
   "outputs": [],
   "source": [
    "# Replace Yes/No with 1/0\n",
    "def v_d(Vehicle_Damage):\n",
    "  if Vehicle_Damage == 'Yes':\n",
    "    return 1\n",
    "  else:\n",
    "    return 0"
   ]
  },
  {
   "cell_type": "code",
   "execution_count": 33,
   "metadata": {},
   "outputs": [],
   "source": [
    "# Apply function to replace Yes/No values\n",
    "df['Vehicle_Damage'] = df['Vehicle_Damage'].apply(v_d)\n",
    "# df.drop(['Vehicle_Damage'],axis=1)"
   ]
  },
  {
   "cell_type": "code",
   "execution_count": 34,
   "metadata": {},
   "outputs": [],
   "source": [
    "# Select 'Response' variable as the y_train\n",
    "y_train = df['Response']"
   ]
  },
  {
   "cell_type": "code",
   "execution_count": 35,
   "metadata": {},
   "outputs": [],
   "source": [
    "# Remove 'Response' from original dataframe\n",
    "df.drop('Response', axis=1, inplace=True)"
   ]
  },
  {
   "cell_type": "code",
   "execution_count": 36,
   "metadata": {},
   "outputs": [],
   "source": [
    "# Apply get_dummies to the train dataframe\n",
    "X_train = pd.get_dummies(data=df, drop_first=True, dtype=int)"
   ]
  },
  {
   "cell_type": "code",
   "execution_count": 37,
   "metadata": {},
   "outputs": [
    {
     "name": "stdout",
     "output_type": "stream",
     "text": [
      "Number of nulls in df: 0\n"
     ]
    }
   ],
   "source": [
    "# Check nulls in the tes dataframe\n",
    "null_value_test = df_test.isnull().sum().sum()\n",
    "print(f\"Number of nulls in df: {null_value_count}\")"
   ]
  },
  {
   "cell_type": "code",
   "execution_count": 38,
   "metadata": {},
   "outputs": [
    {
     "data": {
      "text/html": [
       "<div>\n",
       "<style scoped>\n",
       "    .dataframe tbody tr th:only-of-type {\n",
       "        vertical-align: middle;\n",
       "    }\n",
       "\n",
       "    .dataframe tbody tr th {\n",
       "        vertical-align: top;\n",
       "    }\n",
       "\n",
       "    .dataframe thead th {\n",
       "        text-align: right;\n",
       "    }\n",
       "</style>\n",
       "<table border=\"1\" class=\"dataframe\">\n",
       "  <thead>\n",
       "    <tr style=\"text-align: right;\">\n",
       "      <th></th>\n",
       "      <th>id</th>\n",
       "      <th>Gender</th>\n",
       "      <th>Age</th>\n",
       "      <th>Driving_License</th>\n",
       "      <th>Region_Code</th>\n",
       "      <th>Previously_Insured</th>\n",
       "      <th>Vehicle_Age</th>\n",
       "      <th>Vehicle_Damage</th>\n",
       "      <th>Annual_Premium</th>\n",
       "      <th>Policy_Sales_Channel</th>\n",
       "      <th>Vintage</th>\n",
       "    </tr>\n",
       "  </thead>\n",
       "  <tbody>\n",
       "    <tr>\n",
       "      <th>0</th>\n",
       "      <td>11504798</td>\n",
       "      <td>Female</td>\n",
       "      <td>20</td>\n",
       "      <td>1</td>\n",
       "      <td>47.0</td>\n",
       "      <td>0</td>\n",
       "      <td>&lt; 1 Year</td>\n",
       "      <td>0</td>\n",
       "      <td>2630.0</td>\n",
       "      <td>160.0</td>\n",
       "      <td>228</td>\n",
       "    </tr>\n",
       "    <tr>\n",
       "      <th>1</th>\n",
       "      <td>11504799</td>\n",
       "      <td>Male</td>\n",
       "      <td>47</td>\n",
       "      <td>1</td>\n",
       "      <td>28.0</td>\n",
       "      <td>0</td>\n",
       "      <td>1-2 Year</td>\n",
       "      <td>1</td>\n",
       "      <td>37483.0</td>\n",
       "      <td>124.0</td>\n",
       "      <td>123</td>\n",
       "    </tr>\n",
       "    <tr>\n",
       "      <th>2</th>\n",
       "      <td>11504800</td>\n",
       "      <td>Male</td>\n",
       "      <td>47</td>\n",
       "      <td>1</td>\n",
       "      <td>43.0</td>\n",
       "      <td>0</td>\n",
       "      <td>1-2 Year</td>\n",
       "      <td>1</td>\n",
       "      <td>2630.0</td>\n",
       "      <td>26.0</td>\n",
       "      <td>271</td>\n",
       "    </tr>\n",
       "    <tr>\n",
       "      <th>3</th>\n",
       "      <td>11504801</td>\n",
       "      <td>Female</td>\n",
       "      <td>22</td>\n",
       "      <td>1</td>\n",
       "      <td>47.0</td>\n",
       "      <td>1</td>\n",
       "      <td>&lt; 1 Year</td>\n",
       "      <td>0</td>\n",
       "      <td>24502.0</td>\n",
       "      <td>152.0</td>\n",
       "      <td>115</td>\n",
       "    </tr>\n",
       "    <tr>\n",
       "      <th>4</th>\n",
       "      <td>11504802</td>\n",
       "      <td>Male</td>\n",
       "      <td>51</td>\n",
       "      <td>1</td>\n",
       "      <td>19.0</td>\n",
       "      <td>0</td>\n",
       "      <td>1-2 Year</td>\n",
       "      <td>0</td>\n",
       "      <td>34115.0</td>\n",
       "      <td>124.0</td>\n",
       "      <td>148</td>\n",
       "    </tr>\n",
       "    <tr>\n",
       "      <th>...</th>\n",
       "      <td>...</td>\n",
       "      <td>...</td>\n",
       "      <td>...</td>\n",
       "      <td>...</td>\n",
       "      <td>...</td>\n",
       "      <td>...</td>\n",
       "      <td>...</td>\n",
       "      <td>...</td>\n",
       "      <td>...</td>\n",
       "      <td>...</td>\n",
       "      <td>...</td>\n",
       "    </tr>\n",
       "    <tr>\n",
       "      <th>7669861</th>\n",
       "      <td>19174659</td>\n",
       "      <td>Male</td>\n",
       "      <td>57</td>\n",
       "      <td>1</td>\n",
       "      <td>28.0</td>\n",
       "      <td>0</td>\n",
       "      <td>1-2 Year</td>\n",
       "      <td>1</td>\n",
       "      <td>51661.0</td>\n",
       "      <td>124.0</td>\n",
       "      <td>109</td>\n",
       "    </tr>\n",
       "    <tr>\n",
       "      <th>7669862</th>\n",
       "      <td>19174660</td>\n",
       "      <td>Male</td>\n",
       "      <td>28</td>\n",
       "      <td>1</td>\n",
       "      <td>50.0</td>\n",
       "      <td>1</td>\n",
       "      <td>&lt; 1 Year</td>\n",
       "      <td>0</td>\n",
       "      <td>25651.0</td>\n",
       "      <td>152.0</td>\n",
       "      <td>184</td>\n",
       "    </tr>\n",
       "    <tr>\n",
       "      <th>7669863</th>\n",
       "      <td>19174661</td>\n",
       "      <td>Male</td>\n",
       "      <td>47</td>\n",
       "      <td>1</td>\n",
       "      <td>33.0</td>\n",
       "      <td>1</td>\n",
       "      <td>1-2 Year</td>\n",
       "      <td>0</td>\n",
       "      <td>2630.0</td>\n",
       "      <td>138.0</td>\n",
       "      <td>63</td>\n",
       "    </tr>\n",
       "    <tr>\n",
       "      <th>7669864</th>\n",
       "      <td>19174662</td>\n",
       "      <td>Male</td>\n",
       "      <td>30</td>\n",
       "      <td>1</td>\n",
       "      <td>28.0</td>\n",
       "      <td>0</td>\n",
       "      <td>&lt; 1 Year</td>\n",
       "      <td>1</td>\n",
       "      <td>38866.0</td>\n",
       "      <td>124.0</td>\n",
       "      <td>119</td>\n",
       "    </tr>\n",
       "    <tr>\n",
       "      <th>7669865</th>\n",
       "      <td>19174663</td>\n",
       "      <td>Male</td>\n",
       "      <td>23</td>\n",
       "      <td>1</td>\n",
       "      <td>46.0</td>\n",
       "      <td>1</td>\n",
       "      <td>&lt; 1 Year</td>\n",
       "      <td>0</td>\n",
       "      <td>27498.0</td>\n",
       "      <td>152.0</td>\n",
       "      <td>79</td>\n",
       "    </tr>\n",
       "  </tbody>\n",
       "</table>\n",
       "<p>7669866 rows × 11 columns</p>\n",
       "</div>"
      ],
      "text/plain": [
       "               id  Gender  Age  Driving_License  Region_Code  \\\n",
       "0        11504798  Female   20                1         47.0   \n",
       "1        11504799    Male   47                1         28.0   \n",
       "2        11504800    Male   47                1         43.0   \n",
       "3        11504801  Female   22                1         47.0   \n",
       "4        11504802    Male   51                1         19.0   \n",
       "...           ...     ...  ...              ...          ...   \n",
       "7669861  19174659    Male   57                1         28.0   \n",
       "7669862  19174660    Male   28                1         50.0   \n",
       "7669863  19174661    Male   47                1         33.0   \n",
       "7669864  19174662    Male   30                1         28.0   \n",
       "7669865  19174663    Male   23                1         46.0   \n",
       "\n",
       "         Previously_Insured Vehicle_Age  Vehicle_Damage  Annual_Premium  \\\n",
       "0                         0    < 1 Year               0          2630.0   \n",
       "1                         0    1-2 Year               1         37483.0   \n",
       "2                         0    1-2 Year               1          2630.0   \n",
       "3                         1    < 1 Year               0         24502.0   \n",
       "4                         0    1-2 Year               0         34115.0   \n",
       "...                     ...         ...             ...             ...   \n",
       "7669861                   0    1-2 Year               1         51661.0   \n",
       "7669862                   1    < 1 Year               0         25651.0   \n",
       "7669863                   1    1-2 Year               0          2630.0   \n",
       "7669864                   0    < 1 Year               1         38866.0   \n",
       "7669865                   1    < 1 Year               0         27498.0   \n",
       "\n",
       "         Policy_Sales_Channel  Vintage  \n",
       "0                       160.0      228  \n",
       "1                       124.0      123  \n",
       "2                        26.0      271  \n",
       "3                       152.0      115  \n",
       "4                       124.0      148  \n",
       "...                       ...      ...  \n",
       "7669861                 124.0      109  \n",
       "7669862                 152.0      184  \n",
       "7669863                 138.0       63  \n",
       "7669864                 124.0      119  \n",
       "7669865                 152.0       79  \n",
       "\n",
       "[7669866 rows x 11 columns]"
      ]
     },
     "execution_count": 38,
     "metadata": {},
     "output_type": "execute_result"
    }
   ],
   "source": [
    "# Apply function to replace Yes/No values\n",
    "df_test['Vehicle_Damage'] = df_test['Vehicle_Damage'].apply(v_d)\n",
    "df_test"
   ]
  },
  {
   "cell_type": "code",
   "execution_count": 39,
   "metadata": {},
   "outputs": [],
   "source": [
    "# Apply get_dummies to the test dataset\n",
    "X_test = pd.get_dummies(data=df_test, drop_first=True, dtype=int)"
   ]
  },
  {
   "cell_type": "code",
   "execution_count": 40,
   "metadata": {},
   "outputs": [],
   "source": [
    "# Apply get_dummies to df \n",
    "df = pd.get_dummies(data=df, drop_first=True, dtype=int)"
   ]
  },
  {
   "cell_type": "code",
   "execution_count": 41,
   "metadata": {},
   "outputs": [
    {
     "data": {
      "text/plain": [
       "id                         int64\n",
       "Age                        int64\n",
       "Driving_License            int64\n",
       "Region_Code              float64\n",
       "Previously_Insured         int64\n",
       "Annual_Premium           float64\n",
       "Policy_Sales_Channel     float64\n",
       "Vintage                    int64\n",
       "Gender_Male                int32\n",
       "Vehicle_Age_< 1 Year       int32\n",
       "Vehicle_Age_> 2 Years      int32\n",
       "Vehicle_Damage_1           int32\n",
       "dtype: object"
      ]
     },
     "execution_count": 41,
     "metadata": {},
     "output_type": "execute_result"
    }
   ],
   "source": [
    "X_train.dtypes"
   ]
  },
  {
   "cell_type": "markdown",
   "metadata": {},
   "source": [
    "### Treat Imbalanced Classification"
   ]
  },
  {
   "cell_type": "markdown",
   "metadata": {},
   "source": [
    "We will treat the imbalance in the target variable 'Response' with a method called Synthetic Minority Oversampling Technique or SMOTE. This method creates new data points for the minority class, in this case the customers responding positively to the insurance policy (Response=1) by analizing the existing data points and creating new ones similar to them. If we decided to leave the dataset as is, the model will probably favor the majority class (Response=0) and would be biased. "
   ]
  },
  {
   "cell_type": "code",
   "execution_count": 42,
   "metadata": {},
   "outputs": [
    {
     "name": "stdout",
     "output_type": "stream",
     "text": [
      "0    10089739\n",
      "1     1415059\n",
      "Name: Response, dtype: int64\n",
      "\n",
      "0    10089739\n",
      "1    10089739\n",
      "Name: Response, dtype: int64\n"
     ]
    }
   ],
   "source": [
    "import imblearn\n",
    "from imblearn.over_sampling import SMOTE\n",
    "\n",
    "# Create a variable called smote using the SMOTE() method\n",
    "smote = SMOTE()\n",
    "# Apply the fit_resample method with X_train and y_train as parameters\n",
    "X_train_smote, y_train_smote = smote.fit_resample(X_train, y_train)\n",
    "print(y_train.value_counts())\n",
    "print()\n",
    "print(y_train_smote.value_counts())"
   ]
  },
  {
   "cell_type": "markdown",
   "metadata": {},
   "source": [
    "### Logistic Regression Model"
   ]
  },
  {
   "cell_type": "markdown",
   "metadata": {},
   "source": [
    "We are using a Logisic Regression model for our prediction since the target variable is of a binary type, either the customers respond positively (Response = 1) and acquire the policy insurance or they don't(Response = 0). "
   ]
  },
  {
   "cell_type": "code",
   "execution_count": 43,
   "metadata": {},
   "outputs": [],
   "source": [
    "from sklearn.preprocessing import StandardScaler, MinMaxScaler\n",
    "# Create a variable called scaler using the StandardScaler() method\n",
    "scaler = StandardScaler()\n",
    "\n",
    "# Apply the fit_transform to the scaler variable with X_train_smote as the parameter\n",
    "X_train_scaled = scaler.fit_transform(X_train_smote)\n",
    "\n",
    "# Apply the fit_transform to the scaler variable with df as the parameter\n",
    "data_scaled = scaler.fit_transform(df)"
   ]
  },
  {
   "cell_type": "markdown",
   "metadata": {},
   "source": [
    "#### Training and testing dataset split"
   ]
  },
  {
   "cell_type": "code",
   "execution_count": 44,
   "metadata": {},
   "outputs": [
    {
     "name": "stdout",
     "output_type": "stream",
     "text": [
      "(14125634, 12) (14125634,) (6053844, 12) (6053844,)\n"
     ]
    }
   ],
   "source": [
    "from sklearn.model_selection import train_test_split\n",
    "\n",
    "# Apply the method train_test_split with X_train_scaled, y_train_smote\n",
    "x_train, x_test, y_train, y_test = train_test_split(X_train_scaled, y_train_smote, test_size=0.3, random_state=42)\n",
    "\n",
    "print(x_train.shape, y_train.shape, x_test.shape, y_test.shape)"
   ]
  },
  {
   "cell_type": "code",
   "execution_count": 59,
   "metadata": {},
   "outputs": [],
   "source": [
    "# Variable definition for our model\n",
    "def model_prediction(model):\n",
    "    # Fit train dataset \n",
    "    model.fit(x_train,y_train)\n",
    "    x_train_pred = model.predict(x_train)\n",
    "    x_test_pred = model.predict(x_test)\n",
    "    y_test_prob = model.predict_proba(x_test)[:, 1]\n",
    "\n",
    "    # Metric methods for the model\n",
    "    a = accuracy_score(y_train,x_train_pred)*100\n",
    "    b = accuracy_score(y_test,x_test_pred)*100\n",
    "    c = precision_score(y_test,x_test_pred)\n",
    "    d = recall_score(y_test,x_test_pred)\n",
    "    e = roc_auc_score(y_test, y_test_prob)\n",
    "\n",
    "\n",
    "    print(f\"Accuracy_Score of {model} model on Training Data is:\",a)\n",
    "    print(f\"Accuracy_Score of {model} model on Testing Data is:\",b)\n",
    "    print(f\"Precision Score of {model} model is:\",c)\n",
    "    print(f\"Recall Score of {model} model is:\",d)\n",
    "    print(f\"AUC Score of {model} model is:\", e)\n",
    "    print(\"\\n------------------------------------------------------------------------\")\n",
    "    print(f\"Confusion Matrix of {model} model is:\")\n",
    "    print(x_test_pred)\n",
    "    cm = confusion_matrix(y_test,x_test_pred,normalize='all')\n",
    "    plt.figure(figsize=(8,4))\n",
    "    sns.heatmap(cm,annot=True,fmt=\"g\",cmap=\"Greens\")\n",
    "    plt.show()\n"
   ]
  },
  {
   "cell_type": "code",
   "execution_count": 60,
   "metadata": {},
   "outputs": [
    {
     "name": "stdout",
     "output_type": "stream",
     "text": [
      "Accuracy_Score of LogisticRegression() model on Training Data is: 83.06136913925421\n",
      "Accuracy_Score of LogisticRegression() model on Testing Data is: 83.06451239906413\n",
      "Precision Score of LogisticRegression() model is: 0.779777169615706\n",
      "Recall Score of LogisticRegression() model is: 0.9214891597984742\n",
      "AUC Score of LogisticRegression() model is: 0.8933758553132556\n",
      "\n",
      "------------------------------------------------------------------------\n",
      "Confusion Matrix of LogisticRegression() model is:\n",
      "[1 1 0 ... 1 0 0]\n"
     ]
    },
    {
     "data": {
      "image/png": "[encoded data removed]",
      "text/plain": [
       "<Figure size 576x288 with 2 Axes>"
      ]
     },
     "metadata": {
      "needs_background": "light"
     },
     "output_type": "display_data"
    }
   ],
   "source": [
    "model_prediction(LogisticRegression())"
   ]
  },
  {
   "cell_type": "markdown",
   "metadata": {},
   "source": [
    "The accuracy score of the model which measures how well our model is at predicting outcomes is 83%. Also, the precision score is 80% which tells us how well our model predicts positive outcomes. This implies that 80 out of 100 positive outcomes are predicted correctly. \n",
    "\n",
    "The Precision Score evaluates the ratio between the True Positives and all the Positives. This means that when our model predicts a positive response from customers, it is correct 78% of the time.\n",
    "\n",
    "The Confusion Matrix shows us that the True Positive are 46% accurate while the True Negative are 37%. Moreover, the False Negatives and False Positives combined are 17% of the predicted values."
   ]
  }
 ],
 "metadata": {
  "kernelspec": {
   "display_name": "Python 3",
   "language": "python",
   "name": "python3"
  },
  "language_info": {
   "codemirror_mode": {
    "name": "ipython",
    "version": 3
   },
   "file_extension": ".py",
   "mimetype": "text/x-python",
   "name": "python",
   "nbconvert_exporter": "python",
   "pygments_lexer": "ipython3",
   "version": "3.10.1"
  }
 },
 "nbformat": 4,
 "nbformat_minor": 2
}
